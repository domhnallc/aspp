{
 "cells": [
  {
   "cell_type": "markdown",
   "id": "a361a9c8-0144-4feb-990b-9790ab3a3014",
   "metadata": {
    "tags": []
   },
   "source": [
    "# Compiling the dataset used for analyses within the paper"
   ]
  },
  {
   "cell_type": "markdown",
   "id": "6b8f701e-2cd9-4e51-b68c-a5e5cb99e3ae",
   "metadata": {},
   "source": [
    "The methods used below were employed to compile a best-effort dataset of software stored in UK institutional repositories, along with descriptive traits and variables.  New and improved software was developed based on the learnings of the research process.  These functions should be considered deprecated in favour of the new approach taken (LINK). The details below are given to demonstrate how the dataset was derived.  Many additions/amendments were made manually as described below."
   ]
  },
  {
   "cell_type": "markdown",
   "id": "6576bd82-07f8-407c-b526-acd5a80e77b6",
   "metadata": {
    "tags": []
   },
   "source": [
    "## Build main dataset of descriptives from CORE.ac.uk API"
   ]
  },
  {
   "cell_type": "markdown",
   "id": "b999e41c-8306-4d6e-b0dc-634b34a0be44",
   "metadata": {},
   "source": [
    "Generate the JSON objects for the descriptive data of each repository:"
   ]
  },
  {
   "cell_type": "code",
   "execution_count": null,
   "id": "e4f8f39a-0b2a-4c34-9d60-fa92008b0bd2",
   "metadata": {
    "scrolled": true,
    "tags": []
   },
   "outputs": [],
   "source": [
    "import requests\n",
    "import json\n",
    "from pprint import pprint\n",
    "import pandas as pd\n",
    "\n",
    "pd.options.display.max_columns = None\n",
    "\n",
    "API_ENDPOINT = \"https://api.core.ac.uk/v3/\"\n",
    "\n",
    "'''Functions to retrieve data from CORE API v3. Authorised using the ./apikey from core.ac.uk.\n",
    "Based on examples provided by CORE at https://github.com/oacore/apiv3-webinar/\n",
    "'''\n",
    "\n",
    "def get_API_Key() -> str:\n",
    "    '''Retrieve the API key from project root folder.'''\n",
    "    with open(\"./apikey\", \"r\") as apikey_file:\n",
    "        api_key = apikey_file.readlines()[0].strip()\n",
    "    return api_key\n",
    "\n",
    "def get_core_providers_details(country_code, api_key) -> list:\n",
    "    \"\"\" Gets all descriptive details for all Core.ac.uk UK-based data providers\"\"\"\n",
    "    results = base_query_api(\"search/data-providers\", \"location.countryCode:\" + country_code, api_key)\n",
    "    list_of_dicts = []\n",
    "    for provider in results['results']:\n",
    "        list_of_dicts.append(provider)\n",
    "\n",
    "    return list_of_dicts\n",
    "\n",
    "def strip_http(df_in: pd.DataFrame) -> pd.DataFrame:\n",
    "    df_in['URL'] = df_in['URL'].str.replace('http://', '')\n",
    "\n",
    "    return df_in\n",
    "\n",
    "\n",
    "def strip_https(df_in: pd.DataFrame) -> pd.DataFrame:\n",
    "    df_in['URL'] = df_in['URL'].str.replace('https://', '')\n",
    "\n",
    "    return df_in\n",
    "\n",
    "def base_query_api(url_fragment: str, query: str, api_key: str, limit=300):\n",
    "    ''''''\n",
    "    headers = {\"Authorization\": \"Bearer \" + api_key}\n",
    "    query = {\"q\": query, \"limit\": limit}\n",
    "    response = requests.post(f\"{API_ENDPOINT}{url_fragment}\", data=json.dumps(query), headers=headers)\n",
    "    if response.status_code == 200:\n",
    "        return response.json()\n",
    "    else:\n",
    "        print(f\"Error code {response.status_code}, {response.content}\")\n",
    "        \n",
    "api_key = get_API_Key()\n",
    "data = get_core_providers_details('GB', get_API_Key())"
   ]
  },
  {
   "cell_type": "markdown",
   "id": "1848f28f-c090-42e0-9f82-53d83151bd38",
   "metadata": {
    "tags": []
   },
   "source": [
    "[Optional] Print the data:"
   ]
  },
  {
   "cell_type": "code",
   "execution_count": null,
   "id": "3286c62e-7395-4ca6-89b5-ba511a46b76d",
   "metadata": {
    "scrolled": true,
    "tags": []
   },
   "outputs": [],
   "source": [
    "display(data)"
   ]
  },
  {
   "cell_type": "markdown",
   "id": "4539c871-d179-443b-9c5b-7d67208e2360",
   "metadata": {
    "tags": []
   },
   "source": [
    "-Create a dataframe from this data  \n",
    "-Rename oaiPmhUrl to URL  \n",
    "-Remove http/s from urls  \n",
    "-Set index column to be URL  \n"
   ]
  },
  {
   "cell_type": "code",
   "execution_count": null,
   "id": "acd3ea6e-d044-4409-b86d-0559937b69ed",
   "metadata": {
    "tags": []
   },
   "outputs": [],
   "source": [
    "df_all_provider_details = pd.DataFrame.from_dict(get_core_providers_details('gb', get_API_Key()))\n",
    "df_all_provider_details.rename(columns= {'oaiPmhUrl':'URL'},inplace=True)\n",
    "df_all_provider_details.rename(columns= {'software':'ris_software'},inplace=True)\n",
    "strip_http(df_all_provider_details)\n",
    "strip_https(df_all_provider_details)\n",
    "df_all_provider_details.set_index(keys='URL', inplace=True)"
   ]
  },
  {
   "cell_type": "markdown",
   "id": "b93b3ab5-9aa4-4564-994b-1bcc22ea3d67",
   "metadata": {
    "jp-MarkdownHeadingCollapsed": true,
    "tags": []
   },
   "source": [
    "[Optional] Print the dataframe"
   ]
  },
  {
   "cell_type": "markdown",
   "id": "24de6611-a4cb-4a18-8b0b-6da2ebf92db7",
   "metadata": {
    "tags": []
   },
   "source": [
    "## Additional data"
   ]
  },
  {
   "cell_type": "markdown",
   "id": "d456d0f1-53e3-4955-9879-54a88a96b644",
   "metadata": {},
   "source": [
    "**Russell_member** was manually added to the dataset by compiling a list of RG institutions from https://russellgroup.ac.uk/."
   ]
  },
  {
   "cell_type": "markdown",
   "id": "c0f8797c-709f-4c60-9e37-c6b693acc4ca",
   "metadata": {
    "tags": []
   },
   "source": [
    "\n",
    "russell_members = [\n",
    "        \"University of Birmingham\",\n",
    "        \"University of Bristol\",\n",
    "        \"University of Cambridge\",\n",
    "        \"Cardiff University\",\n",
    "        \"Durham University\",\n",
    "        \"University of Edinburgh\",\n",
    "        \"University of Exeter\",\n",
    "        \"University of Glasgow\",\n",
    "        \"Imperial College London\",\n",
    "        \"King's College London\",\n",
    "        \"University of Leeds\",\n",
    "        \"University of Liverpool\",\n",
    "        \"London School of Economics & Political Science\",\n",
    "        \"University of Manchester\",\n",
    "        \"Newcastle University\",\n",
    "        \"University of Nottingham\",\n",
    "        \"University of Oxford\",\n",
    "        \"Queen Mary, University of London\",\n",
    "        \"Queen's University Belfast\",\n",
    "        \"University of Sheffield\",\n",
    "        \"University of Southampton\",\n",
    "        \"University College London\",\n",
    "        \"University of Warwick\",\n",
    "        \"University of York\",\n",
    "    ]"
   ]
  },
  {
   "cell_type": "markdown",
   "id": "d4d55514-c8e5-495b-ac04-0220f9778412",
   "metadata": {},
   "source": [
    "**RSE_group** was added manually from data provided at https://github.com/socrse/rse-groups/blob/master/groups.toml"
   ]
  },
  {
   "cell_type": "markdown",
   "id": "338c74a7-6952-4e75-91a5-c768cdad9f28",
   "metadata": {},
   "source": [
    "**ris_software_enum** was derived from the ris_software provided by Core.  This was incomplete and manual additions were made to fill missing data.\n"
   ]
  },
  {
   "cell_type": "code",
   "execution_count": null,
   "id": "5d6c9239-ea50-4deb-8f79-baea67b7a87a",
   "metadata": {
    "scrolled": true,
    "tags": []
   },
   "outputs": [],
   "source": [
    "import numpy as np\n",
    "df_all_provider_details['ris_software'] = df_all_provider_details['ris_software'].str.lower()\n",
    "\n",
    "ris_conditions = [\n",
    "    (df_all_provider_details['ris_software'].str.contains('pure',na=False)),\n",
    "    (df_all_provider_details['ris_software'].str.contains('eprints',na=False)),\n",
    "    (df_all_provider_details['ris_software'].str.contains('dspace',na=False)),\n",
    "    (df_all_provider_details['ris_software'].str.contains('worktribe',na=False)),\n",
    "    (df_all_provider_details['ris_software'].str.contains('figshare',na=False)),\n",
    "    (df_all_provider_details['ris_software'].str.contains('haplo',na=False)),\n",
    "    (df_all_provider_details['ris_software'].str.contains('esploro',na=False)),\n",
    "    df_all_provider_details['ris_software'] == None\n",
    "    ]\n",
    "\n",
    "# create a list of the values we want to assign for each condition\n",
    "values = ['pure', 'eprints', 'dspace', 'worktribe', 'figshare', 'haplo', 'esploro', None]\n",
    "\n",
    "# add new column and use np.select to assign values to it using lists as arguments\n",
    "df_all_provider_details['ris_enum'] = np.select(ris_conditions, values)\n",
    "\n",
    "# display updated DataFrame\n",
    "display(df_all_provider_details)\n"
   ]
  },
  {
   "cell_type": "markdown",
   "id": "a0f067de-8017-475d-8e6c-4235fedc7d98",
   "metadata": {},
   "source": [
    "**Manual_Num_sw_records** was created by directly visiting the repository via web browser and manually filling the value via search returns.  See the paper appendix for raw queries. "
   ]
  },
  {
   "cell_type": "markdown",
   "id": "9871a862-15bb-4ffc-8ee9-9f10631ed06a",
   "metadata": {},
   "source": [
    "**Category** was filled manually depending on the search results (see paper)"
   ]
  },
  {
   "cell_type": "markdown",
   "id": "8382e120-bbdb-4f36-8577-847c4a99c48d",
   "metadata": {},
   "source": [
    "## Additional repositories"
   ]
  },
  {
   "cell_type": "markdown",
   "id": "d4ad80f2-eb3d-4d91-a829-5bacfaeade2a",
   "metadata": {},
   "source": [
    "As mentioned in the paper, additional repositories were found in other aggregation sites that are not CORE data providers.  Data for these was filled manually via browser searches.  The additional institutions were:  \n",
    "\n",
    "https://research.aber.ac.uk  \n",
    "https://uobrep.openrepository.com  \n",
    "https://figshare.cardiffmet.ac.uk  \n",
    "https://pure.hartpury.ac.uk  \n",
    "https://researchportal.hw.ac.uk  \n",
    "https://pure.uhi.ac.uk  \n",
    "https://research.leedstrinity.ac.uk  \n",
    "https://figshare.le.ac.uk  \n",
    "https://repository.lboro.ac.uk  \n",
    "https://nua.repository.guildhe.ac.uk  \n",
    "https://research-portal.uws.ac.uk  \n"
   ]
  },
  {
   "cell_type": "code",
   "execution_count": null,
   "id": "690fba03-3666-40b6-a8fc-a0ea8bbc26b8",
   "metadata": {},
   "outputs": [],
   "source": []
  }
 ],
 "metadata": {
  "kernelspec": {
   "display_name": "Python 3 (ipykernel)",
   "language": "python",
   "name": "python3"
  },
  "language_info": {
   "codemirror_mode": {
    "name": "ipython",
    "version": 3
   },
   "file_extension": ".py",
   "mimetype": "text/x-python",
   "name": "python",
   "nbconvert_exporter": "python",
   "pygments_lexer": "ipython3",
   "version": "3.10.6"
  }
 },
 "nbformat": 4,
 "nbformat_minor": 5
}
